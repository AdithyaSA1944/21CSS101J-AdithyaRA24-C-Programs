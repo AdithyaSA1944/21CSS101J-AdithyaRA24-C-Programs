{
  "nbformat": 4,
  "nbformat_minor": 0,
  "metadata": {
    "colab": {
      "provenance": [],
      "authorship_tag": "ABX9TyPyyCFnzqjx16QctxOD+WQv",
      "include_colab_link": true
    },
    "kernelspec": {
      "name": "python3",
      "display_name": "Python 3"
    },
    "language_info": {
      "name": "python"
    }
  },
  "cells": [
    {
      "cell_type": "markdown",
      "metadata": {
        "id": "view-in-github",
        "colab_type": "text"
      },
      "source": [
        "<a href=\"https://colab.research.google.com/github/AdithyaSA1944/21CSS101J-AdithyaRA24-C-Programs/blob/main/RA2211042010024.ipynb\" target=\"_parent\"><img src=\"https://colab.research.google.com/assets/colab-badge.svg\" alt=\"Open In Colab\"/></a>"
      ]
    },
    {
      "cell_type": "markdown",
      "source": [
        "1)print function"
      ],
      "metadata": {
        "id": "G-P3C9JUOV1d"
      }
    },
    {
      "cell_type": "code",
      "execution_count": 2,
      "metadata": {
        "colab": {
          "base_uri": "https://localhost:8080/"
        },
        "id": "rJ60awaAKkfd",
        "outputId": "9b5b740e-8c69-40c8-9cde-61202b2750ea"
      },
      "outputs": [
        {
          "output_type": "stream",
          "name": "stdout",
          "text": [
            "Hello World\n"
          ]
        }
      ],
      "source": [
        "print(\"Hello World\")"
      ]
    },
    {
      "cell_type": "markdown",
      "source": [
        "2)\\n function"
      ],
      "metadata": {
        "id": "r2YCz3aROyk2"
      }
    },
    {
      "cell_type": "code",
      "source": [
        "print(\"Hello World\\nMy name is Adithya\")"
      ],
      "metadata": {
        "colab": {
          "base_uri": "https://localhost:8080/"
        },
        "id": "9XIYng_mM7BG",
        "outputId": "3c20a3a7-84ee-4420-f147-03372d6c31e0"
      },
      "execution_count": 3,
      "outputs": [
        {
          "output_type": "stream",
          "name": "stdout",
          "text": [
            "Hello World\n",
            "My name is Adithya\n"
          ]
        }
      ]
    },
    {
      "cell_type": "markdown",
      "source": [
        "3)\\t function"
      ],
      "metadata": {
        "id": "RAkuNb6pO2HA"
      }
    },
    {
      "cell_type": "code",
      "source": [
        "print(\"Hello World\\n\\tMy name is Adithya\")"
      ],
      "metadata": {
        "colab": {
          "base_uri": "https://localhost:8080/"
        },
        "id": "kGRtYQvcNLpA",
        "outputId": "f47c2405-3b7a-43b1-b4d1-e0febbc49c90"
      },
      "execution_count": 18,
      "outputs": [
        {
          "output_type": "stream",
          "name": "stdout",
          "text": [
            "Hello World\n",
            "\tMy name is Adithya\n"
          ]
        }
      ]
    },
    {
      "cell_type": "markdown",
      "source": [
        "4)printing an integer"
      ],
      "metadata": {
        "id": "ta3cPHUhO6aU"
      }
    },
    {
      "cell_type": "code",
      "source": [
        "a = 5\n",
        "print(a)"
      ],
      "metadata": {
        "colab": {
          "base_uri": "https://localhost:8080/"
        },
        "id": "6zqiOFLANvTd",
        "outputId": "25f0c443-08cc-4ee6-a02e-780adce74b66"
      },
      "execution_count": 19,
      "outputs": [
        {
          "output_type": "stream",
          "name": "stdout",
          "text": [
            "5\n"
          ]
        }
      ]
    },
    {
      "cell_type": "markdown",
      "source": [
        "5)getting an input and printing the number"
      ],
      "metadata": {
        "id": "4BIjb3_6PJtx"
      }
    },
    {
      "cell_type": "code",
      "source": [
        "a = int(input(\"Enter a number : \"))\n",
        "print(a)"
      ],
      "metadata": {
        "colab": {
          "base_uri": "https://localhost:8080/"
        },
        "id": "6Y2L5qvDOFCE",
        "outputId": "c9efb164-6133-48e2-fa86-b42b5577d5ee"
      },
      "execution_count": 20,
      "outputs": [
        {
          "output_type": "stream",
          "name": "stdout",
          "text": [
            "Enter a number : 5\n",
            "5\n"
          ]
        }
      ]
    },
    {
      "cell_type": "markdown",
      "source": [
        "6)sum"
      ],
      "metadata": {
        "id": "N3gVj4OmPiyZ"
      }
    },
    {
      "cell_type": "code",
      "source": [
        "a = 10\n",
        "b = 9\n",
        "print(a + b)"
      ],
      "metadata": {
        "colab": {
          "base_uri": "https://localhost:8080/"
        },
        "id": "31gTjsKmPcHY",
        "outputId": "d8d14802-b423-4d1f-e721-cd444b9f75a8"
      },
      "execution_count": 9,
      "outputs": [
        {
          "output_type": "stream",
          "name": "stdout",
          "text": [
            "19\n"
          ]
        }
      ]
    },
    {
      "cell_type": "markdown",
      "source": [
        "7)subtraction"
      ],
      "metadata": {
        "id": "MDvcGh0SQGR6"
      }
    },
    {
      "cell_type": "code",
      "source": [
        "a = 30\n",
        "b = 11\n",
        "print(a - b)"
      ],
      "metadata": {
        "colab": {
          "base_uri": "https://localhost:8080/"
        },
        "id": "LdUW471aQBqB",
        "outputId": "f824d8c1-6f54-4d12-d797-67b794298a4a"
      },
      "execution_count": 10,
      "outputs": [
        {
          "output_type": "stream",
          "name": "stdout",
          "text": [
            "19\n"
          ]
        }
      ]
    },
    {
      "cell_type": "markdown",
      "source": [
        "8)Multiplication"
      ],
      "metadata": {
        "id": "6HDH80WJQUNQ"
      }
    },
    {
      "cell_type": "code",
      "source": [
        "a = 5\n",
        "b = 10\n",
        "print(a * b)"
      ],
      "metadata": {
        "colab": {
          "base_uri": "https://localhost:8080/"
        },
        "id": "yduJrg7gQRdC",
        "outputId": "f98de40c-5dbd-454e-8ef9-83eb2ddc63d8"
      },
      "execution_count": 11,
      "outputs": [
        {
          "output_type": "stream",
          "name": "stdout",
          "text": [
            "50\n"
          ]
        }
      ]
    },
    {
      "cell_type": "markdown",
      "source": [
        "9)Division"
      ],
      "metadata": {
        "id": "Oy-vxoL-QcqN"
      }
    },
    {
      "cell_type": "code",
      "source": [
        "a = 190\n",
        "b = 10\n",
        "print(a / b)"
      ],
      "metadata": {
        "colab": {
          "base_uri": "https://localhost:8080/"
        },
        "id": "VxuCMIl4QcKa",
        "outputId": "86e0c67c-3ca0-40a4-dc92-34ea4ae1381c"
      },
      "execution_count": 12,
      "outputs": [
        {
          "output_type": "stream",
          "name": "stdout",
          "text": [
            "19.0\n"
          ]
        }
      ]
    },
    {
      "cell_type": "markdown",
      "source": [
        "10)getting two numbers as input and finding their sum"
      ],
      "metadata": {
        "id": "UxE2AZlfQ2EX"
      }
    },
    {
      "cell_type": "code",
      "source": [
        "a = int(input(\"Enter num1:\"))\n",
        "b = int(input(\"Enter num2:\"))\n",
        "sum = a + b\n",
        "print(\"the sum =\",sum)"
      ],
      "metadata": {
        "colab": {
          "base_uri": "https://localhost:8080/"
        },
        "id": "3qeaDf0AQrFH",
        "outputId": "89b22472-30c0-4ee5-e3a0-41c5068544b8"
      },
      "execution_count": 13,
      "outputs": [
        {
          "output_type": "stream",
          "name": "stdout",
          "text": [
            "Enter num1:5\n",
            "Enter num2:10\n",
            "the sum = 15\n"
          ]
        }
      ]
    },
    {
      "cell_type": "markdown",
      "source": [
        "11)getting two numbers as input and finding their difference"
      ],
      "metadata": {
        "id": "ILp2xzZWSs8S"
      }
    },
    {
      "cell_type": "code",
      "source": [
        "a = int(input(\"Enter num1:\"))\n",
        "b = int(input(\"Enter num2:\"))\n",
        "diff = a - b\n",
        "print(\"the difference =\",diff)"
      ],
      "metadata": {
        "colab": {
          "base_uri": "https://localhost:8080/"
        },
        "id": "ZLWASg3pSsWw",
        "outputId": "ffd8467f-66d5-40e0-fc72-fbd660bc368b"
      },
      "execution_count": 14,
      "outputs": [
        {
          "output_type": "stream",
          "name": "stdout",
          "text": [
            "Enter num1:10\n",
            "Enter num2:5\n",
            "the difference = 5\n"
          ]
        }
      ]
    },
    {
      "cell_type": "markdown",
      "source": [
        "12)getting two numbers as input and finding their product"
      ],
      "metadata": {
        "id": "7hysOIpgTFoJ"
      }
    },
    {
      "cell_type": "code",
      "source": [
        "a = int(input(\"Enter num1:\"))\n",
        "b = int(input(\"Enter num2:\"))\n",
        "prod = a * b\n",
        "print(\"the difference =\",prod)"
      ],
      "metadata": {
        "colab": {
          "base_uri": "https://localhost:8080/"
        },
        "id": "hXuIvBdMTE5g",
        "outputId": "ee254321-74f9-4eca-cc5b-c514b7d08f11"
      },
      "execution_count": 15,
      "outputs": [
        {
          "output_type": "stream",
          "name": "stdout",
          "text": [
            "Enter num1:5\n",
            "Enter num2:10\n",
            "the difference = 50\n"
          ]
        }
      ]
    },
    {
      "cell_type": "markdown",
      "source": [
        "13)getting two numbers as input and finding their quotient"
      ],
      "metadata": {
        "id": "xeEEiH7yTaQp"
      }
    },
    {
      "cell_type": "code",
      "source": [
        "a = int(input(\"Enter num1:\"))\n",
        "b = int(input(\"Enter num2:\"))\n",
        "quo = a / b\n",
        "print(\"the difference =\",quo)"
      ],
      "metadata": {
        "colab": {
          "base_uri": "https://localhost:8080/"
        },
        "id": "yUNlgaUMTR7y",
        "outputId": "596e7631-343b-493d-d007-9d40afb91381"
      },
      "execution_count": 16,
      "outputs": [
        {
          "output_type": "stream",
          "name": "stdout",
          "text": [
            "Enter num1:190\n",
            "Enter num2:10\n",
            "the difference = 19.0\n"
          ]
        }
      ]
    },
    {
      "cell_type": "markdown",
      "source": [
        "14)finding the biggest number"
      ],
      "metadata": {
        "id": "4zvkiYBvUYWV"
      }
    },
    {
      "cell_type": "code",
      "source": [
        "a = 5\n",
        "b = 10\n",
        "if (a > b):\n",
        "  print(a, \"is the biggest number\")\n",
        "else:\n",
        "  print(b, \"is the biggest number\")"
      ],
      "metadata": {
        "colab": {
          "base_uri": "https://localhost:8080/"
        },
        "id": "LWP1ZxOnUMHc",
        "outputId": "331408bb-e82a-4802-c07b-aad6cf5cb43f"
      },
      "execution_count": 17,
      "outputs": [
        {
          "output_type": "stream",
          "name": "stdout",
          "text": [
            "10 is the biggest number\n"
          ]
        }
      ]
    },
    {
      "cell_type": "markdown",
      "source": [
        "15)finding the smallest number"
      ],
      "metadata": {
        "id": "iFJiyNV4WeG1"
      }
    },
    {
      "cell_type": "code",
      "source": [
        "a = 5\n",
        "b = 10\n",
        "if (a < b):\n",
        "  print(a, \"is the smallest number\")\n",
        "else:\n",
        "  print(b, \"is the smallest number\")"
      ],
      "metadata": {
        "colab": {
          "base_uri": "https://localhost:8080/"
        },
        "id": "7VpOcKPoWdbE",
        "outputId": "f88a61d3-2e07-4a80-bdc5-7c16af5a5195"
      },
      "execution_count": 21,
      "outputs": [
        {
          "output_type": "stream",
          "name": "stdout",
          "text": [
            "5 is the smallest number\n"
          ]
        }
      ]
    },
    {
      "cell_type": "markdown",
      "source": [
        "16)Getting two numbers as input and finding the biggest in them "
      ],
      "metadata": {
        "id": "JilHg7E6W1CW"
      }
    },
    {
      "cell_type": "code",
      "source": [
        "a = int(input(\"Enter the first number : \"))\n",
        "b = int(input(\"Enter the second numer : \"))\n",
        "if (a > b):\n",
        "  print(a, \"is the biggest number\")\n",
        "else:\n",
        "  print(b, \"is the biggest number\")\n"
      ],
      "metadata": {
        "colab": {
          "base_uri": "https://localhost:8080/"
        },
        "id": "cKA9vRg0W0K1",
        "outputId": "b1437618-ed33-482f-dbfb-4756e4fb73c3"
      },
      "execution_count": 22,
      "outputs": [
        {
          "output_type": "stream",
          "name": "stdout",
          "text": [
            "Enter the first number : 5\n",
            "Enter the second numer : 4\n",
            "5 is the biggest number\n"
          ]
        }
      ]
    },
    {
      "cell_type": "markdown",
      "source": [
        "17)Getting two numbers as input and finding the smallest in them "
      ],
      "metadata": {
        "id": "2r8FEAc5YK1D"
      }
    },
    {
      "cell_type": "code",
      "source": [
        "a = int(input(\"Enter the first number : \"))\n",
        "b = int(input(\"Enter the second numer : \"))\n",
        "if (a < b):\n",
        "  print(a, \"is the smallest number\")\n",
        "else:\n",
        "  print(b, \"is the smallest number\")\n"
      ],
      "metadata": {
        "colab": {
          "base_uri": "https://localhost:8080/"
        },
        "id": "nOfsuhI_YB9y",
        "outputId": "e01005ed-d50f-4d8b-9346-599f340e9f05"
      },
      "execution_count": 23,
      "outputs": [
        {
          "output_type": "stream",
          "name": "stdout",
          "text": [
            "Enter the first number : 5\n",
            "Enter the second numer : 4\n",
            "4 is the smallest number\n"
          ]
        }
      ]
    }
  ]
}